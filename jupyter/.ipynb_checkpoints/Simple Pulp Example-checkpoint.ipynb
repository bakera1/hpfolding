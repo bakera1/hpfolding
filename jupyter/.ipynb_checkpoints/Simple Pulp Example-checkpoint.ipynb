{
 "cells": [
  {
   "cell_type": "code",
   "execution_count": 1,
   "id": "06ed624e",
   "metadata": {},
   "outputs": [
    {
     "name": "stdout",
     "output_type": "stream",
     "text": [
      "Optimal\n",
      "allocation: ['x1_non_bond: (40.00)', 'x2_bond: (17.14)']\n",
      "prob.objective 3*x1_non_bond + 2*x2_bond = 154.2858\n",
      "percentage : ['x1_non_bond: (70.00%)', 'x2_bond: (30.00%)']\n"
     ]
    }
   ],
   "source": [
    "from pulp import LpVariable, LpProblem, LpStatus , LpMaximize, GLPK, value\n",
    "\n",
    "# declare the variables\n",
    "x1 = LpVariable(\"x1-non-bond\", 0, 40)  # 0 <= x1 <= 40\n",
    "x2 = LpVariable(\"x2-bond\", 0, 1000) # 0 <= x2 <= 1000\n",
    "\n",
    "# define the problem\n",
    "prob = LpProblem(\"problem\", LpMaximize)\n",
    "\n",
    "# constriants\n",
    "prob += 2*x1+x2 <= 100\n",
    "prob += x1+x2 <=80\n",
    "prob += x1<=40\n",
    "prob += x1>=0\n",
    "prob += x2>=0\n",
    "\n",
    "# constraint BND to 30% of total collateral\n",
    "prob += x2<=0.3*(x1+x2)\n",
    "\n",
    "# objective function\n",
    "prob += 3*x1+2*x2\n",
    "\n",
    "prob.writeLP(\"simple.lp\")\n",
    "\n",
    "status = prob.solve(GLPK(msg=0))\n",
    "\n",
    "if LpStatus[status] == 'Optimal':\n",
    "    print(LpStatus[status])\n",
    "    print('allocation:', [\"%s: (%.2f)\"%(v.name, v.varValue) for v in prob.variables()])\n",
    "    print('prob.objective',prob.objective, '=', value(prob.objective))\n",
    "    total = sum([(v.varValue) for v in prob.variables()])\n",
    "    if total > 0:\n",
    "        print('percentage :' ,[\"%s: (%.2f%%)\"%(v.name, v.varValue/total*100) for v in prob.variables()])\n",
    "\n"
   ]
  },
  {
   "cell_type": "code",
   "execution_count": null,
   "id": "b4af1d37",
   "metadata": {},
   "outputs": [],
   "source": []
  }
 ],
 "metadata": {
  "kernelspec": {
   "display_name": "Python 3 (ipykernel)",
   "language": "python",
   "name": "python3"
  },
  "language_info": {
   "codemirror_mode": {
    "name": "ipython",
    "version": 3
   },
   "file_extension": ".py",
   "mimetype": "text/x-python",
   "name": "python",
   "nbconvert_exporter": "python",
   "pygments_lexer": "ipython3",
   "version": "3.11.4"
  }
 },
 "nbformat": 4,
 "nbformat_minor": 5
}
