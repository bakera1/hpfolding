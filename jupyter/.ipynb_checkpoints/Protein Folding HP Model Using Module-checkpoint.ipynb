{
 "cells": [
  {
   "attachments": {
    "image.png": {
     "image/png": "[encoded data removed]"
    }
   },
   "cell_type": "markdown",
   "id": "cf5d580c",
   "metadata": {},
   "source": [
    "### Chapter 7.2 - Integer Linear Programming in Computational and Systems Biology\n",
    "Author: Dan Gusfield\n",
    "Protein Foldering via the HP Model.\n",
    "\n",
    "In a very simplified form, we can consider proteins as strings consisting of hydrophobic (H) and polar (P) elements, e.g. HHPPHHHPHHPH.\n",
    "For this problem, the orientation of a protein is important; e.g. HPP is considered distinct from PPH. Thus, there are distinct proteins consisting of elements.\n",
    "![image.png](attachment:image.png)\n",
    "When one encounters these strings in nature, they are always folded in such a way that the number of H-H contact points is as large as possible, since this is energetically advantageous.\n",
    "As a result, the H-elements tend to accumulate in the inner part, with the P-elements on the outside.\n",
    "Natural proteins are folded in three dimensions of course, but we will only consider protein folding in two dimensions."
   ]
  },
  {
   "cell_type": "code",
   "execution_count": 24,
   "id": "8cf54f2a",
   "metadata": {},
   "outputs": [],
   "source": [
    "import sys\n",
    "\n",
    "from collections import namedtuple\n",
    "from typing import List\n",
    "from enum import Enum\n",
    "\n",
    "from pulp import LpVariable, LpProblem, LpStatus, LpMaximize, GLPK, value, lpSum\n",
    "\n",
    "Edge = namedtuple(\"Edge\", \"left top right bottom\")\n",
    "Corner = namedtuple(\"Corner\", \"top_left top_right bottom_left bottom_right\")\n",
    "\n",
    "class GridPointType(Enum):\n",
    "    \"\"\" simple enum to classify each point in a grid \"\"\"\n",
    "    Edge = 'Edge'\n",
    "    Corner = 'Corner'\n",
    "    Inner = 'Inner'\n",
    "\n",
    "class EdgeLink:\n",
    "    \"\"\" used to track edge links \"\"\"\n",
    "\n",
    "    def __init__(self, p, q):\n",
    "        self.p = p\n",
    "        self.q = q\n",
    "\n",
    "    def __repr__(self):\n",
    "        return f'{self.p}->{self.q}'\n",
    "\n",
    "    def __str__(self):\n",
    "        return f'{self.p}->{self.q}'\n",
    "\n",
    "    def has_traversed(self, candidate_p, candidate_q, verbose=False):\n",
    "        if verbose:\n",
    "            print(f'inside has_traversed check {(self.p == candidate_p and self.q == candidate_q) or (self.q == candidate_p and self.p == candidate_q)}')\n",
    "        return True if (self.p == candidate_p and self.q == candidate_q) or (self.q == candidate_p and self.p == candidate_q) else False        "
   ]
  },
  {
   "cell_type": "code",
   "execution_count": 25,
   "id": "cc207e48",
   "metadata": {},
   "outputs": [],
   "source": [
    "# setup LpProblem with sample Protein number of grid points\n",
    "\n",
    "prob = LpProblem('Protein_Folding_HP_Model', LpMaximize)\n",
    "protein = \"\"\"110\"\"\"\n",
    "n = len(protein)"
   ]
  },
  {
   "cell_type": "code",
   "execution_count": 26,
   "id": "31e6cee5",
   "metadata": {},
   "outputs": [],
   "source": [
    "# we given each point in the n * n grid an identifer n**2\n",
    "i_n_by_n = [f'x_i_p_{i}_{p}' for i in range(1, n+1) for p in range(1, n**2+1)]"
   ]
  },
  {
   "cell_type": "code",
   "execution_count": 27,
   "id": "c77a2a10",
   "metadata": {},
   "outputs": [
    {
     "data": {
      "text/plain": [
       "True"
      ]
     },
     "execution_count": 27,
     "metadata": {},
     "output_type": "execute_result"
    }
   ],
   "source": [
    "# i position in the protein string on any point in the n ** n grid \n",
    "i_assigned_p_var = LpVariable.dicts(\"x_i_p\", \\\n",
    "                                i_n_by_n, \\\n",
    "                                lowBound=0, \\\n",
    "                                upBound=1, \\\n",
    "                                cat='Integer')\n",
    "len(i_assigned_p_var) == n**3"
   ]
  },
  {
   "cell_type": "code",
   "execution_count": 28,
   "id": "0fe5ed28",
   "metadata": {},
   "outputs": [],
   "source": [
    "for i in range(1, n+1):\n",
    "    prob += lpSum([i_assigned_p_var[f'x_i_p_{i}_{p}'] \\\n",
    "        for p in range(1, n**2+1)]) == 1"
   ]
  },
  {
   "cell_type": "code",
   "execution_count": 29,
   "id": "8778da00",
   "metadata": {},
   "outputs": [],
   "source": [
    "# ensure that no point on the grid is assigned more than one position in the\n",
    "# string; For each pair of positions i,j in the string\n",
    "\n",
    "for (i,j) in zip(range(1, n+1), range(1,n+1)):\n",
    "    for p in range(1, n**2+1):\n",
    "        prob += lpSum([i_assigned_p_var[f'x_i_p_{i}_{p}'], \n",
    "                           i_assigned_p_var[f'x_i_p_{j}_{p}']]) <= 1"
   ]
  },
  {
   "cell_type": "code",
   "execution_count": 30,
   "id": "6decee0b-0bf8-4cd4-b3d5-a7c5df36cf3b",
   "metadata": {},
   "outputs": [],
   "source": [
    "def classify_p_in_grid(p: int, n:int) -> GridPointType:\n",
    "    first_column = [i for i in range(1, n**2, n)]\n",
    "    last_column = [i for i in range(n, n**2, n)]\n",
    "    top_row = [i for i in range(1, n)]\n",
    "    bottom_row = [i for i in range(n**2-n, n**2+1)]\n",
    "    corners = [1, n, n**2-n+1, n**2]\n",
    "    if p in corners:\n",
    "        return GridPointType.Corner, Corner(p ==1, p==n, p==n**2-n+1, p==n**2)\n",
    "    elif p in first_column or p in last_column or p in top_row or p in bottom_row:\n",
    "        return GridPointType.Edge, Edge(p in first_column, p in top_row, p in last_column, p in bottom_row)\n",
    "    else:\n",
    "        return GridPointType.Inner, None\n"
   ]
  },
  {
   "cell_type": "markdown",
   "id": "0e2d2755-7955-43cd-b9ca-09241ece356a",
   "metadata": {},
   "source": [
    "### Test classification"
   ]
  },
  {
   "cell_type": "code",
   "execution_count": 31,
   "id": "ed2a7991-7091-4b1b-99c2-e1fa4e286c9e",
   "metadata": {},
   "outputs": [
    {
     "data": {
      "text/plain": [
       "True"
      ]
     },
     "execution_count": 31,
     "metadata": {},
     "output_type": "execute_result"
    }
   ],
   "source": [
    "classify_p_in_grid(p=4, n=8)[0] == GridPointType.Edge and \\\n",
    "classify_p_in_grid(p=1, n=8)[0] == GridPointType.Corner and \\\n",
    "classify_p_in_grid(p=64, n=8)[0] == GridPointType.Corner"
   ]
  },
  {
   "cell_type": "code",
   "execution_count": 32,
   "id": "4f9d88a6-536c-45a1-981c-3430bb5153ff",
   "metadata": {},
   "outputs": [],
   "source": [
    "def generate_neighbours(p:int, n:int) -> list():\n",
    "    \"\"\" generate the N_p neighbours to point p in the grid \n",
    "    general 4 points for point in the grid\n",
    "    corner case only 2 neighbours\n",
    "    first or last row, or first or last column only has \"\"\"\n",
    "\n",
    "    # check against bad data points\n",
    "    if p not in [x for x in range(n**2+1)] or p == 0:\n",
    "        raise Exception(f'{p} outside range {0} to {n**2}')\n",
    "    output = list()\n",
    "    grid_type, edge = classify_p_in_grid(p=p, n=n)\n",
    "    #print(grid_type)\n",
    "    \n",
    "    # inner easiest case here\n",
    "    if grid_type in [GridPointType.Inner]:\n",
    "        output = list([p-1, p-n, p+n, p+1])\n",
    "    # classify the location on the edges\n",
    "    elif grid_type in [GridPointType.Edge]:\n",
    "        if edge.left:\n",
    "            output = [p-n, p+n, p+1]\n",
    "        elif edge.top:\n",
    "            output = [p-1, p+n, p+1]\n",
    "        elif edge.right:\n",
    "            output = [p-1, p-n, p+n]\n",
    "        elif edge.bottom:\n",
    "            output = [p-1, p-n, p+1]\n",
    "    # handle the corners \n",
    "    elif grid_type in [GridPointType.Corner]:\n",
    "        if edge.top_left:\n",
    "            output = list([p+1, p+n])\n",
    "        if edge.top_right:\n",
    "            output = list([n-1, n+n])\n",
    "        if edge.bottom_left:\n",
    "            output = list([p-n, p+1])\n",
    "        if edge.bottom_right:\n",
    "            output = list([p-1, n**2-n])\n",
    "    return sorted([i for i in list(set(output)) if i != 0])"
   ]
  },
  {
   "cell_type": "markdown",
   "id": "021334af-bf76-4236-9147-1dfb4f3a7a61",
   "metadata": {},
   "source": [
    "### check the output for nearest neighbour for any sized grid"
   ]
  },
  {
   "cell_type": "code",
   "execution_count": 33,
   "id": "4ce88e3a-1bac-469d-be76-69bc5f7ef803",
   "metadata": {},
   "outputs": [
    {
     "name": "stdout",
     "output_type": "stream",
     "text": [
      "1 [2, 4]\n",
      "2 [1, 3, 5]\n",
      "3 [2, 6]\n",
      "4 [1, 5, 7]\n",
      "5 [2, 4, 6, 8]\n",
      "6 [3, 5, 9]\n",
      "7 [4, 8]\n",
      "8 [5, 7, 9]\n",
      "9 [6, 8]\n"
     ]
    }
   ],
   "source": [
    "local_n = 3\n",
    "for p in range(1, local_n**2+1):\n",
    "    print(f'{p} {generate_neighbours(p=p, n=local_n)}')"
   ]
  },
  {
   "cell_type": "code",
   "execution_count": 34,
   "id": "19e2db9c-bfd3-4e19-bccf-e846a72e3335",
   "metadata": {},
   "outputs": [],
   "source": [
    "# ensure connectedness\n",
    "for i in range(1,n):\n",
    "    for p in range(1, n**2+1):\n",
    "        prob += i_assigned_p_var[f'x_i_p_{i}_{p}'] - lpSum([i_assigned_p_var[f'x_i_p_{i+1}_{q}'] for q in generate_neighbours(p=p, n=n)]) <= 0"
   ]
  },
  {
   "cell_type": "markdown",
   "id": "21844f48-8f2b-460b-ae06-3d55adbba572",
   "metadata": {},
   "source": [
    "### Inequalities to Detect Contacts\n",
    "Recall that a contact is an edge(p,q) on the grid where neighbouring points p & q have been assigned nonadjacent characts in the string"
   ]
  },
  {
   "cell_type": "code",
   "execution_count": 35,
   "id": "8427d6f9-3120-4176-948c-25a8b6fd00c2",
   "metadata": {},
   "outputs": [],
   "source": [
    "def wrap_generate_neighbours(p:int, n:int) -> List[EdgeLink]:\n",
    "    candidate_neighbours : list(int) = generate_neighbours(p=p, n=n)\n",
    "    for candidate in candidate_neighbours:\n",
    "        yield EdgeLink(p=p, q=candidate)"
   ]
  },
  {
   "cell_type": "code",
   "execution_count": 36,
   "id": "2b20ac3d-b474-4b99-984e-a1d1e220141d",
   "metadata": {},
   "outputs": [],
   "source": [
    "def generate_unique_edge(n: int) -> List[EdgeLink]:\n",
    "    ### function to build unique set of edges to traverse from grid of size n ###\n",
    "    \n",
    "    edge_link_link = list()\n",
    "    \n",
    "    # iterate the entire grid\n",
    "    for p in range(1, local_n**2+1):\n",
    "    \n",
    "        #print(f'p::{p}')\n",
    "        # iterate all candidate neighbours\n",
    "        for candidate_neighbour in wrap_generate_neighbours(p=p, n=local_n):\n",
    "            #print(candidate_neighbour)\n",
    "    \n",
    "            if len(edge_link_link) == 0:\n",
    "                #print(f'{candidate_neighbour} not traversed aaa {str(candidate_neighbour)}')\n",
    "                edge_link_link.append(candidate_neighbour)\n",
    "                continue\n",
    "    \n",
    "            check = False\n",
    "            for edge in edge_link_link:\n",
    "                check = edge.has_traversed(candidate_p=candidate_neighbour.p, candidate_q=candidate_neighbour.q)\n",
    "                #print(f'check edge.has_traversed {edge.p} {edge.q} -->{candidate_neighbour.p} {candidate_neighbour.q} check {check}')\n",
    "                \n",
    "                if check:\n",
    "                    # break if we have already traversed this link\n",
    "                    break\n",
    "                else:\n",
    "                    check *= True\n",
    "            if not check:\n",
    "                #print(f'{candidate_neighbour} not traversed')\n",
    "                edge_link_link.append(candidate_neighbour)\n",
    "            #else:\n",
    "                #print(f'check {check}')\n",
    "                \n",
    "    return edge_link_link\n"
   ]
  },
  {
   "cell_type": "code",
   "execution_count": 37,
   "id": "eb93fcda-0c57-4825-98d7-1ca152465844",
   "metadata": {},
   "outputs": [
    {
     "name": "stdout",
     "output_type": "stream",
     "text": [
      "1 2\n",
      "1 4\n",
      "2 3\n",
      "2 5\n",
      "3 6\n",
      "4 5\n",
      "4 7\n",
      "5 6\n",
      "5 8\n",
      "6 9\n",
      "7 8\n",
      "8 9\n"
     ]
    }
   ],
   "source": [
    "local_n = 3\n",
    "for edge in generate_unique_edge(n=local_n):\n",
    "    print(edge.p, edge.q)"
   ]
  },
  {
   "cell_type": "code",
   "execution_count": 15,
   "id": "1cce91e1-7c8c-4083-b80f-0ef976dcdb76",
   "metadata": {},
   "outputs": [
    {
     "data": {
      "text/plain": [
       "True"
      ]
     },
     "execution_count": 15,
     "metadata": {},
     "output_type": "execute_result"
    }
   ],
   "source": [
    "def compute_overcount_pairs(protein: str, match:str, mode=0)-> int:\n",
    "    ### count the number of distinct matches of match in protein ###\n",
    "    for position in range(len(protein)-1):\n",
    "        sequence = f'{protein[position]}{protein[position+1]}'\n",
    "        #print(f'{position}->{sequence} ')\n",
    "        if mode == 0:\n",
    "            yield 1 if sequence == match else 0\n",
    "        else:\n",
    "            yield position if sequence == match else None\n",
    "\n",
    "def wrap_compute_count_pairs(protein: str, match='11'):\n",
    "    return sum([count for count in compute_overcount_pairs(protein=protein, match=match)])\n",
    "\n",
    "def compute_position_match(protein:str, match='1'):\n",
    "    return [position+1 for position in range(len(protein)-1) if protein[position] == '1']\n",
    "\n",
    "# check over count\n",
    "wrap_compute_count_pairs(protein='1110101100', match='11') == 3 \n",
    "\n",
    "# compute \n",
    "compute_position_match(protein='1110101100') == [1,2,3,5,7,8]"
   ]
  },
  {
   "cell_type": "code",
   "execution_count": null,
   "id": "9c6cee0f-7684-4751-8c47-041a9c1c4502",
   "metadata": {},
   "outputs": [],
   "source": []
  },
  {
   "cell_type": "code",
   "execution_count": 16,
   "id": "417037bf-1eca-4728-8c75-3af647cb684b",
   "metadata": {},
   "outputs": [
    {
     "data": {
      "text/plain": [
       "['i_p_1',\n",
       " 'i_p_2',\n",
       " 'i_p_3',\n",
       " 'i_p_4',\n",
       " 'i_p_5',\n",
       " 'i_p_6',\n",
       " 'i_p_7',\n",
       " 'i_p_8',\n",
       " 'i_p_9']"
      ]
     },
     "execution_count": 16,
     "metadata": {},
     "output_type": "execute_result"
    }
   ],
   "source": [
    "local_n = 3\n",
    "grid = [ f'i_p_{p}' for p in range(1, local_n**2+1)]\n",
    "# for each point on the grid\n",
    "grid"
   ]
  },
  {
   "cell_type": "code",
   "execution_count": 17,
   "id": "8862e9cc-f68a-47ae-b93a-ab55a362fa3b",
   "metadata": {},
   "outputs": [
    {
     "data": {
      "text/plain": [
       "{'i_p_1': i_p_i_p_1,\n",
       " 'i_p_2': i_p_i_p_2,\n",
       " 'i_p_3': i_p_i_p_3,\n",
       " 'i_p_4': i_p_i_p_4,\n",
       " 'i_p_5': i_p_i_p_5,\n",
       " 'i_p_6': i_p_i_p_6,\n",
       " 'i_p_7': i_p_i_p_7,\n",
       " 'i_p_8': i_p_i_p_8,\n",
       " 'i_p_9': i_p_i_p_9}"
      ]
     },
     "execution_count": 17,
     "metadata": {},
     "output_type": "execute_result"
    }
   ],
   "source": [
    "# i position in the protein string on any point in the n ** n grid \n",
    "i_p_var = LpVariable.dicts(\"i_p\", \\\n",
    "                                grid, \\\n",
    "                                lowBound=0, \\\n",
    "                                upBound=1, \\\n",
    "                                cat='Integer')\n",
    "len(i_p_var) == n**2\n",
    "i_p_var"
   ]
  },
  {
   "cell_type": "code",
   "execution_count": 18,
   "id": "9e912313-1297-4fb2-8907-ad273b86e1ed",
   "metadata": {},
   "outputs": [],
   "source": [
    "# for each position in the grid\n",
    "match_list = compute_position_match(protein=protein)\n",
    "\n",
    "for p in range(1, local_n**2+1):\n",
    "    prob += lpSum([i_assigned_p_var[f'x_i_p_{i}_{p}'] for i in range(1, len(protein)+1) if i in match_list]) - i_p_var[f'i_p_{p}'] <= 0\n",
    "    "
   ]
  },
  {
   "cell_type": "code",
   "execution_count": 19,
   "id": "2807a571-e064-438b-a619-02b9e3567280",
   "metadata": {},
   "outputs": [],
   "source": [
    "local_n = 3\n",
    "edge_list = [f'c_{edge.p}_{edge.q}' for edge in generate_unique_edge(n=local_n)]"
   ]
  },
  {
   "cell_type": "code",
   "execution_count": 20,
   "id": "36a78f6a-fa79-4630-a757-a6cedd3d508e",
   "metadata": {},
   "outputs": [],
   "source": [
    "# i position in the protein string on any point in the n ** n grid \n",
    "c_p_q_var = LpVariable.dicts(\"c_p_q\", \\\n",
    "                                edge_list, \\\n",
    "                                lowBound=0, \\\n",
    "                                upBound=1, \\\n",
    "                                cat='Integer')"
   ]
  },
  {
   "cell_type": "code",
   "execution_count": 21,
   "id": "edc345fc-fbda-4183-ae5a-12ea3697d7be",
   "metadata": {},
   "outputs": [],
   "source": [
    "\n",
    "for edge in generate_unique_edge(n=n):\n",
    "    prob += i_p_var[f'i_p_{edge.p}'] + i_p_var[f'i_p_{edge.q}'] - 2 * c_p_q_var[f'c_{edge.p}_{edge.q}'] >= 0\n"
   ]
  },
  {
   "cell_type": "code",
   "execution_count": 22,
   "id": "4321bb60-e0a5-45bd-897d-384cbd1d6d8f",
   "metadata": {},
   "outputs": [],
   "source": [
    "# objective function\n",
    "\n",
    "offset = wrap_compute_count_pairs(protein=protein, match='11')\n",
    "\n",
    "prob += lpSum([c_p_q_var[f'c_{edge.p}_{edge.q}'] for edge in generate_unique_edge(n=n)]) - offset\n",
    "\n",
    "prob.writeLP(\"simple.lp\")\n",
    "\n",
    "status = prob.solve(GLPK(msg=0))\n",
    "\n",
    "if LpStatus[status] == 'Optimal':\n",
    "    print(LpStatus[status])\n",
    "    print('allocation:', [\"%s: (%.2f)\"%(v.name, v.varValue) for v in prob.variables()])\n",
    "    print('prob.objective',prob.objective, '=', value(prob.objective))\n",
    "    total = sum([(v.varValue) for v in prob.variables()])\n",
    "   "
   ]
  },
  {
   "cell_type": "code",
   "execution_count": 23,
   "id": "553ce2be-e5e2-4caf-ac34-7a025a43a87e",
   "metadata": {},
   "outputs": [
    {
     "name": "stdout",
     "output_type": "stream",
     "text": [
      "\u001b[5m\u001b[31mHello, World!\u001b[0m\n",
      "\u001b[32mHello, World!\u001b[0m\n"
     ]
    }
   ],
   "source": [
    "from termcolor import colored, cprint\n",
    "\n",
    "text = colored('Hello, World!', 'red', attrs=['blink'])\n",
    "print(text)\n",
    "cprint('Hello, World!', 'green')"
   ]
  },
  {
   "cell_type": "code",
   "execution_count": 38,
   "id": "ff319bbe-aa97-4337-820b-4bd9f695bd4b",
   "metadata": {},
   "outputs": [
    {
     "data": {
      "text/plain": [
       "[1, 2]"
      ]
     },
     "execution_count": 38,
     "metadata": {},
     "output_type": "execute_result"
    }
   ],
   "source": [
    "compute_position_match(protein=protein)"
   ]
  },
  {
   "cell_type": "code",
   "execution_count": null,
   "id": "41d8b2a3-b1d3-458f-8272-5bac73b60910",
   "metadata": {},
   "outputs": [],
   "source": []
  }
 ],
 "metadata": {
  "kernelspec": {
   "display_name": "Python 3 (ipykernel)",
   "language": "python",
   "name": "python3"
  },
  "language_info": {
   "codemirror_mode": {
    "name": "ipython",
    "version": 3
   },
   "file_extension": ".py",
   "mimetype": "text/x-python",
   "name": "python",
   "nbconvert_exporter": "python",
   "pygments_lexer": "ipython3",
   "version": "3.11.4"
  }
 },
 "nbformat": 4,
 "nbformat_minor": 5
}
