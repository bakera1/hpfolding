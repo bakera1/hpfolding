{
 "cells": [
  {
   "cell_type": "code",
   "execution_count": 1,
   "id": "1aabc486-104f-4e55-9740-cc0ec985da5c",
   "metadata": {},
   "outputs": [],
   "source": [
    "from hp.core.common import generate_neighbours"
   ]
  },
  {
   "cell_type": "code",
   "execution_count": 2,
   "id": "a7ad13db-bd19-4a7e-8467-d87bbd1b4ece",
   "metadata": {},
   "outputs": [
    {
     "name": "stdout",
     "output_type": "stream",
     "text": [
      "1 [2, 4]\n",
      "2 [1, 3, 5]\n",
      "3 [2, 6]\n",
      "4 [1, 5, 7]\n",
      "5 [2, 4, 6, 8]\n",
      "6 [3, 5, 9]\n",
      "7 [4, 8]\n",
      "8 [5, 7, 9]\n",
      "9 [6, 8]\n"
     ]
    }
   ],
   "source": [
    "local_n = 3\n",
    "for p in range(1, local_n ** 2 + 1):\n",
    "    print(f'{p} {generate_neighbours(p=p, n=local_n)}')\n"
   ]
  },
  {
   "cell_type": "code",
   "execution_count": null,
   "id": "1021521a-bb10-4ff5-8d52-5743db012618",
   "metadata": {},
   "outputs": [],
   "source": []
  }
 ],
 "metadata": {
  "kernelspec": {
   "display_name": "Python 3 (ipykernel)",
   "language": "python",
   "name": "python3"
  },
  "language_info": {
   "codemirror_mode": {
    "name": "ipython",
    "version": 3
   },
   "file_extension": ".py",
   "mimetype": "text/x-python",
   "name": "python",
   "nbconvert_exporter": "python",
   "pygments_lexer": "ipython3",
   "version": "3.11.4"
  }
 },
 "nbformat": 4,
 "nbformat_minor": 5
}
