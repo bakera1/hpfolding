{
 "cells": [
  {
   "cell_type": "code",
   "execution_count": 1,
   "id": "8cf54f2a",
   "metadata": {},
   "outputs": [],
   "source": [
    "import sys\n",
    "\n",
    "from collections import namedtuple\n",
    "from typing import List\n",
    "from enum import Enum\n",
    "\n",
    "from hp.core.common import classify_p_in_grid, GridPointType, generate_neighbours, compute_position_match, \\\n",
    "    wrap_compute_count_pairs, generate_unique_edge, compute_position_match, Edge, Corner, GridPointType, EdgeLink, SquareGrid\n",
    "\n",
    "from pulp import LpVariable, LpProblem, LpStatus, LpMaximize, GLPK, value, lpSum\n"
   ]
  },
  {
   "attachments": {
    "image.png": {
     "image/png": "[encoded data removed]"
    }
   },
   "cell_type": "markdown",
   "id": "cf5d580c",
   "metadata": {},
   "source": [
    "### Chapter 7.2 - Integer Linear Programming in Computational and Systems Biology\n",
    "Author: Dan Gusfield\n",
    "Protein Foldering via the HP Model.\n",
    "\n",
    "In a very simplified form, we can consider proteins as strings consisting of hydrophobic (H) and polar (P) elements, e.g. HHPPHHHPHHPH.\n",
    "For this problem, the orientation of a protein is important; e.g. HPP is considered distinct from PPH. Thus, there are distinct proteins consisting of elements.\n",
    "![image.png](attachment:image.png)\n",
    "When one encounters these strings in nature, they are always folded in such a way that the number of H-H contact points is as large as possible, since this is energetically advantageous.\n",
    "As a result, the H-elements tend to accumulate in the inner part, with the P-elements on the outside.\n",
    "Natural proteins are folded in three dimensions of course, but we will only consider protein folding in two dimensions."
   ]
  },
  {
   "cell_type": "code",
   "execution_count": 12,
   "id": "77656a04-d963-4295-b6fb-cf789ab95ed6",
   "metadata": {},
   "outputs": [],
   "source": [
    "# setup LpProblem with sample Protein number of grid points\n",
    "\n",
    "prob = LpProblem('Protein_Folding_HP_Model', LpMaximize)\n",
    "protein = \"\"\"100000110000100\"\"\"\n",
    "n = len(protein)\n",
    "\n",
    "# we given each point in the n * n grid an identifer n**2\n",
    "i_n_by_n = [f'x_i_p_{i}_{p}' for i in range(1, n+1) for p in range(1, n**2+1)]\n",
    "\n",
    "# i position in the protein string on any point in the n ** n grid \n",
    "i_assigned_p_var = LpVariable.dicts(\"x_i_p\", \\\n",
    "                                i_n_by_n, \\\n",
    "                                lowBound=0, \\\n",
    "                                upBound=1, \\\n",
    "                                cat='Integer')\n",
    "\n",
    "for i in range(1, n+1):\n",
    "    prob += lpSum([i_assigned_p_var[f'x_i_p_{i}_{p}'] \\\n",
    "        for p in range(1, n**2+1)]) == 1\n",
    "\n",
    "# ensure that no point on the grid is assigned more than one position in the\n",
    "# string; for each pair of positions i,j in the string; no grid point \n",
    "\n",
    "for p in range(1, n**2+1):\n",
    "    prob += lpSum([i_assigned_p_var[f'x_i_p_{i}_{p}'] for i in range(1, n+1)]) <= 1\n",
    "\n",
    "# ensure connectedness\n",
    "# need to ensure that adjacent positions on the string are assigned to\n",
    "# neighbouring points on the grid\n",
    "\n",
    "for i in range(1,n):\n",
    "    for p in range(1, n**2+1):\n",
    "        prob += i_assigned_p_var[f'x_i_p_{i}_{p}'] - lpSum([i_assigned_p_var[f'x_i_p_{i+1}_{q}'] for q in generate_neighbours(p=p, n=n)]) <= 0\n",
    "       "
   ]
  },
  {
   "cell_type": "code",
   "execution_count": 13,
   "id": "cc207e48",
   "metadata": {},
   "outputs": [],
   "source": [
    "# inequalities to detect contacts\n",
    "\n",
    "grid = [ f'i_p_{p}' for p in range(1, n**2+1)]\n",
    "# i position in the protein string on any point in the n ** n grid \n",
    "i_p_var = LpVariable.dicts(\"i_p\", \\\n",
    "                                grid, \\\n",
    "                                lowBound=0, \\\n",
    "                                upBound=1, \\\n",
    "                                cat='Integer')\n",
    "\n",
    "# for each position in the grid\n",
    "match_list = compute_position_match(protein=protein)\n",
    "for p in range(1, n**2+1):\n",
    "    prob += lpSum([i_assigned_p_var[f'x_i_p_{i}_{p}'] for i in range(1, len(protein)+1) if i in match_list]) - i_p_var[f'i_p_{p}'] == 0\n",
    "    "
   ]
  },
  {
   "cell_type": "code",
   "execution_count": 14,
   "id": "8c46d82f-50b3-445c-bdbc-04aa9b8f86ef",
   "metadata": {},
   "outputs": [],
   "source": [
    "\n",
    "edge_list = [f'c_{edge.p}_{edge.q}' for edge in generate_unique_edge(n=n)]\n",
    "# i position in the protein string on any point in the n ** n grid \n",
    "c_p_q_var = LpVariable.dicts(\"c_p_q\", \\\n",
    "                                edge_list, \\\n",
    "                                lowBound=0, \\\n",
    "                                upBound=1, \\\n",
    "                                cat='Integer')\n",
    "\n",
    "for edge in generate_unique_edge(n=n):\n",
    "    prob += i_p_var[f'i_p_{edge.p}'] + i_p_var[f'i_p_{edge.q}'] - 2 * c_p_q_var[f'c_{edge.p}_{edge.q}'] >= 0\n",
    "\n",
    "# objective function\n",
    "offset = wrap_compute_count_pairs(protein=protein, match='11')\n",
    "offset_var = LpVariable('offset', lowBound=offset, upBound=offset)\n",
    "prob += lpSum([c_p_q_var[f'c_{edge.p}_{edge.q}'] for edge in generate_unique_edge(n=n)]) - offset_var\n"
   ]
  },
  {
   "cell_type": "code",
   "execution_count": null,
   "id": "63504eee-5266-439e-8ec1-1bff317924bb",
   "metadata": {},
   "outputs": [],
   "source": [
    "\n",
    "prob.writeLP(\"simple.lp\")\n",
    "\n",
    "status = prob.solve(GLPK(msg=0))\n",
    "print(LpStatus[status])\n",
    "\n",
    "if LpStatus[status] == 'Optimal':\n",
    "    print('allocation:', [\"%s: (%.2f)\"%(v.name, v.varValue) for v in prob.variables() if 'x_i_p' in v.name and v.varValue == 1.0])\n",
    "    #print('prob.objective',prob.objective, '=', value(prob.objective))\n",
    "    total = sum([(v.varValue) for v in prob.variables()])"
   ]
  },
  {
   "cell_type": "code",
   "execution_count": null,
   "id": "7394a56c-2621-492f-98ef-29d7bb3cb35c",
   "metadata": {},
   "outputs": [],
   "source": [
    "g = SquareGrid(n=n)\n",
    "g.render_var(prob=prob, protein=protein)"
   ]
  },
  {
   "cell_type": "code",
   "execution_count": null,
   "id": "10f7148c-8602-4919-971b-7263c3f509b9",
   "metadata": {},
   "outputs": [],
   "source": []
  }
 ],
 "metadata": {
  "kernelspec": {
   "display_name": "Python 3 (ipykernel)",
   "language": "python",
   "name": "python3"
  },
  "language_info": {
   "codemirror_mode": {
    "name": "ipython",
    "version": 3
   },
   "file_extension": ".py",
   "mimetype": "text/x-python",
   "name": "python",
   "nbconvert_exporter": "python",
   "pygments_lexer": "ipython3",
   "version": "3.11.4"
  }
 },
 "nbformat": 4,
 "nbformat_minor": 5
}
